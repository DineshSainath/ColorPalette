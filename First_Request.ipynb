{
 "cells": [
  {
   "cell_type": "code",
   "execution_count": 56,
   "id": "2cbc81bc-b27f-4d12-a55d-5bc205f51bf5",
   "metadata": {},
   "outputs": [
    {
     "name": "stdout",
     "output_type": "stream",
     "text": [
      "Requirement already satisfied: openai<1 in c:\\python312\\lib\\site-packages (0.28.1)\n",
      "Requirement already satisfied: requests>=2.20 in c:\\python312\\lib\\site-packages (from openai<1) (2.32.3)\n",
      "Requirement already satisfied: tqdm in c:\\python312\\lib\\site-packages (from openai<1) (4.67.1)\n",
      "Requirement already satisfied: aiohttp in c:\\python312\\lib\\site-packages (from openai<1) (3.11.11)\n",
      "Requirement already satisfied: charset-normalizer<4,>=2 in c:\\python312\\lib\\site-packages (from requests>=2.20->openai<1) (3.3.2)\n",
      "Requirement already satisfied: idna<4,>=2.5 in c:\\python312\\lib\\site-packages (from requests>=2.20->openai<1) (3.7)\n",
      "Requirement already satisfied: urllib3<3,>=1.21.1 in c:\\python312\\lib\\site-packages (from requests>=2.20->openai<1) (2.2.1)\n",
      "Requirement already satisfied: certifi>=2017.4.17 in c:\\python312\\lib\\site-packages (from requests>=2.20->openai<1) (2024.12.14)\n",
      "Requirement already satisfied: aiohappyeyeballs>=2.3.0 in c:\\python312\\lib\\site-packages (from aiohttp->openai<1) (2.4.4)\n",
      "Requirement already satisfied: aiosignal>=1.1.2 in c:\\python312\\lib\\site-packages (from aiohttp->openai<1) (1.3.2)\n",
      "Requirement already satisfied: attrs>=17.3.0 in c:\\python312\\lib\\site-packages (from aiohttp->openai<1) (25.1.0)\n",
      "Requirement already satisfied: frozenlist>=1.1.1 in c:\\python312\\lib\\site-packages (from aiohttp->openai<1) (1.5.0)\n",
      "Requirement already satisfied: multidict<7.0,>=4.5 in c:\\python312\\lib\\site-packages (from aiohttp->openai<1) (6.1.0)\n",
      "Requirement already satisfied: propcache>=0.2.0 in c:\\python312\\lib\\site-packages (from aiohttp->openai<1) (0.2.1)\n",
      "Requirement already satisfied: yarl<2.0,>=1.17.0 in c:\\python312\\lib\\site-packages (from aiohttp->openai<1) (1.18.3)\n",
      "Requirement already satisfied: colorama in c:\\python312\\lib\\site-packages (from tqdm->openai<1) (0.4.6)\n",
      "Note: you may need to restart the kernel to use updated packages.\n"
     ]
    },
    {
     "name": "stderr",
     "output_type": "stream",
     "text": [
      "WARNING: Ignoring invalid distribution ~ip (C:\\Python312\\Lib\\site-packages)\n",
      "WARNING: Ignoring invalid distribution ~ip (C:\\Python312\\Lib\\site-packages)\n",
      "WARNING: Ignoring invalid distribution ~ip (C:\\Python312\\Lib\\site-packages)\n"
     ]
    }
   ],
   "source": [
    "pip install \"openai<1\""
   ]
  },
  {
   "cell_type": "code",
   "execution_count": 57,
   "id": "d83daf52-b1a4-4205-be22-1a4c9f1dc5c3",
   "metadata": {},
   "outputs": [
    {
     "name": "stdout",
     "output_type": "stream",
     "text": [
      "Requirement already satisfied: python-dotenv in c:\\python312\\lib\\site-packages (1.0.1)Note: you may need to restart the kernel to use updated packages.\n",
      "\n"
     ]
    },
    {
     "name": "stderr",
     "output_type": "stream",
     "text": [
      "WARNING: Ignoring invalid distribution ~ip (C:\\Python312\\Lib\\site-packages)\n",
      "WARNING: Ignoring invalid distribution ~ip (C:\\Python312\\Lib\\site-packages)\n",
      "WARNING: Ignoring invalid distribution ~ip (C:\\Python312\\Lib\\site-packages)\n"
     ]
    }
   ],
   "source": [
    "pip install python-dotenv\n"
   ]
  },
  {
   "cell_type": "code",
   "execution_count": 110,
   "id": "d3fcb2d6-e19f-4271-93f8-6a35d50e75ae",
   "metadata": {},
   "outputs": [],
   "source": [
    "import json"
   ]
  },
  {
   "cell_type": "code",
   "execution_count": 3,
   "id": "cc9c7652-bf01-457b-bbe0-38d9301135be",
   "metadata": {},
   "outputs": [],
   "source": [
    "import openai"
   ]
  },
  {
   "cell_type": "code",
   "execution_count": 58,
   "id": "40e12d94-25b9-4bc8-a8c7-1483b95ea163",
   "metadata": {},
   "outputs": [],
   "source": [
    "from dotenv import dotenv_values"
   ]
  },
  {
   "cell_type": "code",
   "execution_count": 59,
   "id": "01b40122-a381-4c23-97f7-00d9ce1ba722",
   "metadata": {},
   "outputs": [],
   "source": [
    "config = dotenv_values(\".env\")"
   ]
  },
  {
   "cell_type": "code",
   "execution_count": 60,
   "id": "b02c543a-43af-4291-957d-9ac0863e7900",
   "metadata": {},
   "outputs": [],
   "source": [
    " openai.api_key = config[\"OPENAI_API_KEY\"]\n"
   ]
  },
  {
   "cell_type": "code",
   "execution_count": 112,
   "id": "22a138f4-cd8f-43ed-9d85-41f68aee6eb5",
   "metadata": {},
   "outputs": [],
   "source": [
    "from IPython.display import HTML, display\n",
    "\n",
    "def display_colors (colors):\n",
    "    display (HTML(\" \".join(\n",
    "    f\"<span style='color: {color}'>{chr(9608) * 4}</span>\"\n",
    "    for color in colors\n",
    ")))"
   ]
  },
  {
   "cell_type": "code",
   "execution_count": 121,
   "id": "2dae7ffa-cf2c-418f-bfe7-53953981bb91",
   "metadata": {
    "scrolled": true
   },
   "outputs": [],
   "source": [
    "def getPalette(msg):\n",
    "    response = openai.ChatCompletion.create(\n",
    "    model=\"gpt-4o-mini\", \n",
    "    messages=[\n",
    "        {\"role\": \"system\", \"content\": \"You are a color palette generating assistant. You should generate color palettes that fir the theme, mood or instructions in the prompt. The palettes shold be between 3 and 5 colors.\"},\n",
    "        {\"role\": \"user\", \"content\": f\"\"\" Input:{msg}. The output should be in a json array format. Dont say its json, just give the array in a single line.\"\"\"}\n",
    "    ],\n",
    "    max_tokens = 100\n",
    ")\n",
    "\n",
    "colors = json.loads(response['choices'][0]['message']['content'])"
   ]
  },
  {
   "cell_type": "code",
   "execution_count": null,
   "id": "ba8dade2-414b-41cb-8877-3fd223a64c10",
   "metadata": {},
   "outputs": [],
   "source": []
  }
 ],
 "metadata": {
  "kernelspec": {
   "display_name": "Python 3 (ipykernel)",
   "language": "python",
   "name": "python3"
  },
  "language_info": {
   "codemirror_mode": {
    "name": "ipython",
    "version": 3
   },
   "file_extension": ".py",
   "mimetype": "text/x-python",
   "name": "python",
   "nbconvert_exporter": "python",
   "pygments_lexer": "ipython3",
   "version": "3.12.3"
  }
 },
 "nbformat": 4,
 "nbformat_minor": 5
}
